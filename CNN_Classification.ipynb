{
  "nbformat": 4,
  "nbformat_minor": 0,
  "metadata": {
    "colab": {
      "provenance": []
    },
    "kernelspec": {
      "name": "python3",
      "display_name": "Python 3"
    },
    "language_info": {
      "name": "python"
    }
  },
  "cells": [
    {
      "cell_type": "code",
      "execution_count": null,
      "metadata": {
        "id": "wj7rLbg5SmxJ"
      },
      "outputs": [],
      "source": [
        "# Problem 3: Chart Image Classification using CNN\n",
        "import numpy as np\n",
        "import os\n",
        "import cv2\n",
        "from PIL import Image\n",
        "import tensorflow as tf\n",
        "from tensorflow import keras\n",
        "from keras.models import Sequential\n",
        "import pandas as pd\n",
        "from matplotlib import pyplot as plt\n",
        "%matplotlib inline\n",
        "from keras.layers import Dense, Conv2D, MaxPooling2D, Flatten,GlobalAveragePooling2D\n",
        "from sklearn.preprocessing import LabelEncoder\n",
        "from sklearn.metrics import confusion_matrix, classification_report"
      ]
    },
    {
      "cell_type": "code",
      "source": [
        "dir_train_val = '/content/drive/MyDrive/charts/train_val'\n",
        "dir_test = '/content/drive/MyDrive/charts/test'\n",
        "path_label_train = '/content/drive/MyDrive/charts/train_val'\n",
        "val_label_train = pd.read_csv('/content/drive/MyDrive/charts/train_val.csv')"
      ],
      "metadata": {
        "id": "wmj53g9fVhM8"
      },
      "execution_count": null,
      "outputs": []
    },
    {
      "cell_type": "code",
      "source": [
        "# Loading the training dataset in numpy array\n",
        "images_List = []\n",
        "labels_List = []\n",
        "\n",
        "for filename in os.listdir(dir_train_val):\n",
        "  if filename.endswith('.png'):\n",
        "    # Load the images and resize them to (128, 128) with 3 color channels\n",
        "    image = cv2.imread(os.path.join(dir_train_val, filename))\n",
        "    image = cv2.resize(image, (128, 128))\n",
        "    image = cv2.cvtColor(image, cv2.COLOR_BGR2RGB)\n",
        "    img_array = np.array(image)\n",
        "    # Append the array to the list of images\n",
        "    images_List.append(img_array)\n",
        "    labels_List.append(filename)\n",
        " \n",
        "# Converting string to numerical labels\n",
        "lab = LabelEncoder()\n",
        "labels_List = lab.fit_transform(labels_List)"
      ],
      "metadata": {
        "id": "y5-S4z64ZMA6"
      },
      "execution_count": null,
      "outputs": []
    },
    {
      "cell_type": "code",
      "source": [
        "# Converting the lists to NumPy arrays\n",
        "images_List = np.array(images_List)\n",
        "labels_List = np.array(labels_List)\n",
        "\n",
        "# Save the arrays in NumPy format\n",
        "np.save('train_x.npy', images_List)\n",
        "np.save('train_y.npy', labels_List)\n",
        "\n",
        "train_x = np.load('train_x.npy') \n",
        "train_y = np.load('train_y.npy') "
      ],
      "metadata": {
        "id": "5_TqAv8IbBgi"
      },
      "execution_count": null,
      "outputs": []
    },
    {
      "cell_type": "code",
      "source": [
        "train_x.shape"
      ],
      "metadata": {
        "colab": {
          "base_uri": "https://localhost:8080/"
        },
        "id": "LFVIhJ6xbdvZ",
        "outputId": "f45a55c3-50d2-4120-fef3-32dc785689dd"
      },
      "execution_count": null,
      "outputs": [
        {
          "output_type": "execute_result",
          "data": {
            "text/plain": [
              "(1000, 128, 128, 3)"
            ]
          },
          "metadata": {},
          "execution_count": 5
        }
      ]
    },
    {
      "cell_type": "code",
      "source": [
        "in_x[:5]\n",
        "train_y[:5]"
      ],
      "metadata": {
        "colab": {
          "base_uri": "https://localhost:8080/"
        },
        "id": "XPeDvX-EboXA",
        "outputId": "1788db57-a147-4d06-d588-d45b726388fa"
      },
      "execution_count": null,
      "outputs": [
        {
          "output_type": "execute_result",
          "data": {
            "text/plain": [
              "array([0, 5, 9, 7, 6])"
            ]
          },
          "metadata": {},
          "execution_count": 6
        }
      ]
    },
    {
      "cell_type": "code",
      "source": [
        "# loading the test dataset in numpy array\n",
        "images_List = []\n",
        "labels_List = []\n",
        "\n",
        "for filename in os.listdir(dir_test):\n",
        "  if filename.endswith('.png'):\n",
        "    # Loading and resizing the images \n",
        "    image = cv2.imread(os.path.join(dir_test, filename))\n",
        "    image = cv2.resize(image, (128, 128))\n",
        "    image = cv2.cvtColor(image, cv2.COLOR_BGR2RGB)\n",
        "    image_array = np.array(image)\n",
        "    # Append the array to the list of images\n",
        "    images_List.append(image_array)\n",
        "    labels_List.append(filename)\n",
        "\n",
        "# Convert the string labels to numerical labels\n",
        "lab = LabelEncoder()\n",
        "labels_List = lab.fit_transform(labels_List)\n",
        " \n"
      ],
      "metadata": {
        "id": "N2dNWeVMbuO_"
      },
      "execution_count": null,
      "outputs": []
    },
    {
      "cell_type": "code",
      "source": [
        "# Convert the lists to NumPy arrays\n",
        "images_List = np.array(images_List)\n",
        "labels_List = np.array(labels_List)\n",
        "\n",
        "# Saving arrays in NumPy format\n",
        "np.save('test_x.npy', images_List)\n",
        "np.save('test_y.npy', labels_List)\n",
        "\n",
        "test_x = np.load('test_x.npy') \n",
        "test_y = np.load('test_y.npy')"
      ],
      "metadata": {
        "id": "JiqX6c2mwGP8"
      },
      "execution_count": null,
      "outputs": []
    },
    {
      "cell_type": "code",
      "source": [
        "test_x.shape"
      ],
      "metadata": {
        "id": "HfeCYWpZdp-Q",
        "colab": {
          "base_uri": "https://localhost:8080/"
        },
        "outputId": "4c2fc7e2-ef2d-4286-8e1a-005de80cb777"
      },
      "execution_count": null,
      "outputs": [
        {
          "output_type": "execute_result",
          "data": {
            "text/plain": [
              "(50, 128, 128, 3)"
            ]
          },
          "metadata": {},
          "execution_count": 11
        }
      ]
    },
    {
      "cell_type": "code",
      "source": [
        "# Plot the figure\n",
        "plt.figure(figsize = (10,2))\n",
        "plt.imshow(train_x[10])\n",
        "plt.imshow(train_x[208])\n",
        "plt.imshow(train_x[444])"
      ],
      "metadata": {
        "id": "8YtYUEOJgW1r",
        "colab": {
          "base_uri": "https://localhost:8080/",
          "height": 236
        },
        "outputId": "453fe8d0-0621-4566-87bc-85e7b6b1e73a"
      },
      "execution_count": null,
      "outputs": [
        {
          "output_type": "execute_result",
          "data": {
            "text/plain": [
              "<matplotlib.image.AxesImage at 0x7f6edf018580>"
            ]
          },
          "metadata": {},
          "execution_count": 13
        },
        {
          "output_type": "display_data",
          "data": {
            "text/plain": [
              "<Figure size 1000x200 with 1 Axes>"
            ],
            "image/png": "[encoded data removed]"
          },
          "metadata": {}
        }
      ]
    },
    {
      "cell_type": "code",
      "source": [
        "# Defining classes \n",
        "class_image = ['line', 'dot_line', 'hbar_categorical', 'vbar_categorical', 'pie']\n",
        "class_image[0]\n",
        "\n",
        "# Mapping the categories to the labels array i.e train_y\n",
        "label_map = {'line': 0, 'dot_line': 1, 'hbar_categorical': 2, 'vbar_categorical': 3, 'pie': 4}\n",
        "train_y = np.array([label_map[label] for label in val_label_train['type']])\n",
        "train_y\n",
        "train_y.shape\n",
        "test_y.shape\n"
      ],
      "metadata": {
        "id": "3c-tq7ZdgZsn",
        "colab": {
          "base_uri": "https://localhost:8080/"
        },
        "outputId": "b9dd80ce-94c0-4520-a6dc-ad96efdd16fe"
      },
      "execution_count": null,
      "outputs": [
        {
          "output_type": "execute_result",
          "data": {
            "text/plain": [
              "(50,)"
            ]
          },
          "metadata": {},
          "execution_count": 15
        }
      ]
    },
    {
      "cell_type": "code",
      "source": [
        "# Mapping labels from csv to images\n",
        "# Function for testing the chart \n",
        "def chart_sample(x, y, index):\n",
        "  plt.figure(figsize = (10,2))\n",
        "  plt.imshow(x[index])\n",
        "  plt.xlabel(class_image[y[index]])\n"
      ],
      "metadata": {
        "id": "FiXgWTX3gb55"
      },
      "execution_count": null,
      "outputs": []
    },
    {
      "cell_type": "code",
      "source": [
        "chart_sample(train_x,train_y,0)\n",
        "chart_sample(train_x,train_y,208)\n",
        "chart_sample(train_x,train_y,444)"
      ],
      "metadata": {
        "id": "jcF2DKjMgr6V",
        "colab": {
          "base_uri": "https://localhost:8080/",
          "height": 683
        },
        "outputId": "5b0e5797-21c8-4f17-dc5d-6781752d969d"
      },
      "execution_count": null,
      "outputs": [
        {
          "output_type": "display_data",
          "data": {
            "text/plain": [
              "<Figure size 1000x200 with 1 Axes>"
            ],
            "image/png": "[encoded data removed]"
          },
          "metadata": {}
        },
        {
          "output_type": "display_data",
          "data": {
            "text/plain": [
              "<Figure size 1000x200 with 1 Axes>"
            ],
            "image/png": "[encoded data removed]"
          },
          "metadata": {}
        },
        {
          "output_type": "display_data",
          "data": {
            "text/plain": [
              "<Figure size 1000x200 with 1 Axes>"
            ],
            "image/png": "[encoded data removed]"
          },
          "metadata": {}
        }
      ]
    },
    {
      "cell_type": "code",
      "source": [
        "#Normalizing the image\n",
        "train_x = train_x/255\n",
        "test_x = train_x/255\n",
        "test_x.shape"
      ],
      "metadata": {
        "id": "zUJvRH-Ugt_z",
        "colab": {
          "base_uri": "https://localhost:8080/"
        },
        "outputId": "f98e17d6-36ce-4663-f77b-0c642a430a1c"
      },
      "execution_count": null,
      "outputs": [
        {
          "output_type": "execute_result",
          "data": {
            "text/plain": [
              "(1000, 128, 128, 3)"
            ]
          },
          "metadata": {},
          "execution_count": 18
        }
      ]
    },
    {
      "cell_type": "code",
      "source": [
        "#Label for train data from csv file\n",
        "train_y_index = val_label_train['image_index']\n",
        "train_y_type = val_label_train['type']\n",
        "train_y_type[:5]"
      ],
      "metadata": {
        "id": "ZsHOU1jHg0it",
        "colab": {
          "base_uri": "https://localhost:8080/"
        },
        "outputId": "f6fb160d-a87d-46fb-94bd-5372783c19e7"
      },
      "execution_count": null,
      "outputs": [
        {
          "output_type": "execute_result",
          "data": {
            "text/plain": [
              "0    vbar_categorical\n",
              "1    vbar_categorical\n",
              "2    vbar_categorical\n",
              "3    vbar_categorical\n",
              "4    vbar_categorical\n",
              "Name: type, dtype: object"
            ]
          },
          "metadata": {},
          "execution_count": 20
        }
      ]
    },
    {
      "cell_type": "code",
      "source": [
        "#Simple nn test\n",
        "nn_model = Sequential([\n",
        " Flatten(input_shape=(128,128,3)),\n",
        " Dense(3000, activation='relu'),\n",
        " Dense(1000, activation='relu'),\n",
        " Dense(5, activation='softmax')\n",
        "])\n",
        "\n",
        "# Compile the model\n",
        "nn_model.compile(optimizer='SGD', loss='sparse_categorical_crossentropy', metrics=['accuracy'])\n",
        "\n",
        "nn_model.fit(train_x,train_y,epochs=10)"
      ],
      "metadata": {
        "id": "GGGEwE29g8OA",
        "colab": {
          "base_uri": "https://localhost:8080/"
        },
        "outputId": "16bb7955-72d9-471b-aec3-316e2e375439"
      },
      "execution_count": null,
      "outputs": [
        {
          "output_type": "stream",
          "name": "stdout",
          "text": [
            "Epoch 1/10\n",
            "32/32 [==============================] - 36s 1s/step - loss: 7.7136 - accuracy: 0.2210\n",
            "Epoch 2/10\n",
            "32/32 [==============================] - 54s 2s/step - loss: 1.6200 - accuracy: 0.2060\n",
            "Epoch 3/10\n",
            "32/32 [==============================] - 45s 1s/step - loss: 1.6221 - accuracy: 0.2070\n",
            "Epoch 4/10\n",
            "32/32 [==============================] - 52s 2s/step - loss: 1.6070 - accuracy: 0.2180\n",
            "Epoch 5/10\n",
            "32/32 [==============================] - 60s 2s/step - loss: 1.6308 - accuracy: 0.1940\n",
            "Epoch 6/10\n",
            "32/32 [==============================] - 57s 2s/step - loss: 1.6292 - accuracy: 0.2020\n",
            "Epoch 7/10\n",
            "32/32 [==============================] - 53s 2s/step - loss: 1.6104 - accuracy: 0.2020\n",
            "Epoch 8/10\n",
            "32/32 [==============================] - 53s 2s/step - loss: 1.6564 - accuracy: 0.1970\n",
            "Epoch 9/10\n",
            "32/32 [==============================] - 44s 1s/step - loss: 1.6147 - accuracy: 0.2000\n",
            "Epoch 10/10\n",
            "32/32 [==============================] - 41s 1s/step - loss: 1.6094 - accuracy: 0.2070\n"
          ]
        },
        {
          "output_type": "execute_result",
          "data": {
            "text/plain": [
              "<keras.callbacks.History at 0x7f6ec04d7bb0>"
            ]
          },
          "metadata": {},
          "execution_count": 22
        }
      ]
    },
    {
      "cell_type": "code",
      "source": [
        "# Spliting the training images & labels into training & validation sets\n",
        "\n",
        "from sklearn.model_selection import train_test_split\n",
        "train_x, test_x, train_y, test_y = train_test_split(train_x, train_y, test_size=0.2, random_state=42)"
      ],
      "metadata": {
        "id": "QTTerpjIg-1C"
      },
      "execution_count": null,
      "outputs": []
    },
    {
      "cell_type": "code",
      "source": [
        "nn_model.evaluate(test_x,test_y)"
      ],
      "metadata": {
        "id": "8-yLFZsKhA--",
        "colab": {
          "base_uri": "https://localhost:8080/"
        },
        "outputId": "4bdd724b-e589-479e-ed3d-f1da74807b80"
      },
      "execution_count": null,
      "outputs": [
        {
          "output_type": "stream",
          "name": "stdout",
          "text": [
            "5/5 [==============================] - 2s 357ms/step - loss: 1.6059 - accuracy: 0.2500\n"
          ]
        },
        {
          "output_type": "execute_result",
          "data": {
            "text/plain": [
              "[1.6059280633926392, 0.25]"
            ]
          },
          "metadata": {},
          "execution_count": 25
        }
      ]
    },
    {
      "cell_type": "code",
      "source": [
        "y_pred = nn_model.predict(test_x)\n",
        "y_pred\n",
        "y_pred_classes = [np.argmax(ele) for ele in y_pred]"
      ],
      "metadata": {
        "id": "Ori7SX4OhDwa",
        "colab": {
          "base_uri": "https://localhost:8080/"
        },
        "outputId": "2719c3c7-f9c5-42b6-83e2-18aaf5c2be2c"
      },
      "execution_count": null,
      "outputs": [
        {
          "output_type": "stream",
          "name": "stdout",
          "text": [
            "5/5 [==============================] - 2s 298ms/step\n"
          ]
        }
      ]
    },
    {
      "cell_type": "code",
      "source": [
        "# Printing & verifying the shapes of the arrays\n",
        "print(\"Train Images Shape:\", train_x.shape)\n",
        "print(\"Train Labels Shape:\", train_y.shape)\n",
        "print(\"Test Images Shape:\", test_x.shape)\n",
        "print(\"Test Labels Shape:\", test_y.shape)\n"
      ],
      "metadata": {
        "id": "F7ng2j_QhIR-",
        "colab": {
          "base_uri": "https://localhost:8080/"
        },
        "outputId": "48b617ac-2489-4eb9-a3a1-b8f6d028d86c"
      },
      "execution_count": null,
      "outputs": [
        {
          "output_type": "stream",
          "name": "stdout",
          "text": [
            "Train Images Shape: (640, 128, 128, 3)\n",
            "Train Labels Shape: (640,)\n",
            "Test Images Shape: (160, 128, 128, 3)\n",
            "Test Labels Shape: (160,)\n"
          ]
        }
      ]
    },
    {
      "cell_type": "code",
      "source": [
        "# Modifying the model architecture to CMNN\n",
        "cnn_model = Sequential([\n",
        " Conv2D(filters=16 ,kernel_size=(3,3), activation='relu', input_shape=(128,128,3)),\n",
        " MaxPooling2D(pool_size=(2,2)),\n",
        " Conv2D(32, (3,3), activation='relu'),\n",
        " MaxPooling2D(pool_size=(2,2)),\n",
        " Conv2D(64, (3,3), activation='relu'),\n",
        " MaxPooling2D(pool_size=(2,2)), \n",
        " Flatten(),\n",
        " Dense(128, activation='relu'),\n",
        " Dense(5, activation='softmax')\n",
        "])\n",
        "\n",
        "# Compile the model\n",
        "cnn_model.compile(optimizer='adam', loss='sparse_categorical_crossentropy', metrics=['accuracy'])\n",
        "\n",
        "# Train the model\n",
        "history = cnn_model.fit(train_x, train_y, batch_size=1000, epochs=50,validation_data=(test_x, test_y))\n",
        "\n",
        "# Plot the obtained loss\n",
        "plt.plot(history.history['loss'])\n",
        "plt.plot(history.history['val_loss'])\n",
        "plt.title('Model Loss')\n",
        "plt.ylabel('Loss')\n",
        "plt.xlabel('Epoch')\n",
        "plt.legend(['Train', 'Validation'], loc='upper right')\n",
        "plt.show()\n"
      ],
      "metadata": {
        "id": "mizaoldqhNA4",
        "colab": {
          "base_uri": "https://localhost:8080/",
          "height": 1000
        },
        "outputId": "525feaac-26d2-4a2a-ab86-0072bf72dcfa"
      },
      "execution_count": null,
      "outputs": [
        {
          "output_type": "stream",
          "name": "stdout",
          "text": [
            "Epoch 1/50\n",
            "1/1 [==============================] - 15s 15s/step - loss: 1.6126 - accuracy: 0.1937 - val_loss: 1.8298 - val_accuracy: 0.3000\n",
            "Epoch 2/50\n",
            "1/1 [==============================] - 12s 12s/step - loss: 1.7295 - accuracy: 0.3219 - val_loss: 1.6288 - val_accuracy: 0.2188\n",
            "Epoch 3/50\n",
            "1/1 [==============================] - 12s 12s/step - loss: 1.5838 - accuracy: 0.2984 - val_loss: 1.5398 - val_accuracy: 0.3000\n",
            "Epoch 4/50\n",
            "1/1 [==============================] - 10s 10s/step - loss: 1.5385 - accuracy: 0.3063 - val_loss: 1.5060 - val_accuracy: 0.5000\n",
            "Epoch 5/50\n",
            "1/1 [==============================] - 12s 12s/step - loss: 1.5032 - accuracy: 0.4406 - val_loss: 1.4795 - val_accuracy: 0.3812\n",
            "Epoch 6/50\n",
            "1/1 [==============================] - 12s 12s/step - loss: 1.4639 - accuracy: 0.3797 - val_loss: 1.4182 - val_accuracy: 0.4062\n",
            "Epoch 7/50\n",
            "1/1 [==============================] - 12s 12s/step - loss: 1.3910 - accuracy: 0.4609 - val_loss: 1.3774 - val_accuracy: 0.4563\n",
            "Epoch 8/50\n",
            "1/1 [==============================] - 13s 13s/step - loss: 1.3384 - accuracy: 0.5094 - val_loss: 1.3499 - val_accuracy: 0.4875\n",
            "Epoch 9/50\n",
            "1/1 [==============================] - 10s 10s/step - loss: 1.2990 - accuracy: 0.5125 - val_loss: 1.3165 - val_accuracy: 0.4875\n",
            "Epoch 10/50\n",
            "1/1 [==============================] - 12s 12s/step - loss: 1.2585 - accuracy: 0.5203 - val_loss: 1.2796 - val_accuracy: 0.4875\n",
            "Epoch 11/50\n",
            "1/1 [==============================] - 12s 12s/step - loss: 1.2165 - accuracy: 0.5219 - val_loss: 1.2430 - val_accuracy: 0.4812\n",
            "Epoch 12/50\n",
            "1/1 [==============================] - 12s 12s/step - loss: 1.1685 - accuracy: 0.5312 - val_loss: 1.2138 - val_accuracy: 0.5188\n",
            "Epoch 13/50\n",
            "1/1 [==============================] - 14s 14s/step - loss: 1.1267 - accuracy: 0.5766 - val_loss: 1.1892 - val_accuracy: 0.5375\n",
            "Epoch 14/50\n",
            "1/1 [==============================] - 13s 13s/step - loss: 1.0745 - accuracy: 0.5984 - val_loss: 1.2359 - val_accuracy: 0.5063\n",
            "Epoch 15/50\n",
            "1/1 [==============================] - 10s 10s/step - loss: 1.0507 - accuracy: 0.5641 - val_loss: 1.2039 - val_accuracy: 0.5437\n",
            "Epoch 16/50\n",
            "1/1 [==============================] - 11s 11s/step - loss: 1.0660 - accuracy: 0.6016 - val_loss: 1.3935 - val_accuracy: 0.5063\n",
            "Epoch 17/50\n",
            "1/1 [==============================] - 12s 12s/step - loss: 1.1207 - accuracy: 0.5688 - val_loss: 1.2530 - val_accuracy: 0.4688\n",
            "Epoch 18/50\n",
            "1/1 [==============================] - 12s 12s/step - loss: 1.0263 - accuracy: 0.5859 - val_loss: 1.1669 - val_accuracy: 0.5813\n",
            "Epoch 19/50\n",
            "1/1 [==============================] - 12s 12s/step - loss: 1.0182 - accuracy: 0.6344 - val_loss: 1.1997 - val_accuracy: 0.5688\n",
            "Epoch 20/50\n",
            "1/1 [==============================] - 10s 10s/step - loss: 0.9761 - accuracy: 0.6094 - val_loss: 1.2381 - val_accuracy: 0.5562\n",
            "Epoch 21/50\n",
            "1/1 [==============================] - 12s 12s/step - loss: 0.9694 - accuracy: 0.6297 - val_loss: 1.2102 - val_accuracy: 0.5688\n",
            "Epoch 22/50\n",
            "1/1 [==============================] - 13s 13s/step - loss: 0.9334 - accuracy: 0.6797 - val_loss: 1.1811 - val_accuracy: 0.5562\n",
            "Epoch 23/50\n",
            "1/1 [==============================] - 12s 12s/step - loss: 0.9215 - accuracy: 0.6750 - val_loss: 1.1622 - val_accuracy: 0.5750\n",
            "Epoch 24/50\n",
            "1/1 [==============================] - 12s 12s/step - loss: 0.9258 - accuracy: 0.6656 - val_loss: 1.1404 - val_accuracy: 0.5813\n",
            "Epoch 25/50\n",
            "1/1 [==============================] - 10s 10s/step - loss: 0.8908 - accuracy: 0.6750 - val_loss: 1.1490 - val_accuracy: 0.6062\n",
            "Epoch 26/50\n",
            "1/1 [==============================] - 16s 16s/step - loss: 0.8496 - accuracy: 0.7016 - val_loss: 1.2065 - val_accuracy: 0.5625\n",
            "Epoch 27/50\n",
            "1/1 [==============================] - 12s 12s/step - loss: 0.8528 - accuracy: 0.6797 - val_loss: 1.2108 - val_accuracy: 0.5625\n",
            "Epoch 28/50\n",
            "1/1 [==============================] - 12s 12s/step - loss: 0.8283 - accuracy: 0.6906 - val_loss: 1.1605 - val_accuracy: 0.5813\n",
            "Epoch 29/50\n",
            "1/1 [==============================] - 11s 11s/step - loss: 0.7809 - accuracy: 0.7312 - val_loss: 1.1635 - val_accuracy: 0.5562\n",
            "Epoch 30/50\n",
            "1/1 [==============================] - 11s 11s/step - loss: 0.7829 - accuracy: 0.7172 - val_loss: 1.1889 - val_accuracy: 0.5312\n",
            "Epoch 31/50\n",
            "1/1 [==============================] - 12s 12s/step - loss: 0.7572 - accuracy: 0.7234 - val_loss: 1.2101 - val_accuracy: 0.5625\n",
            "Epoch 32/50\n",
            "1/1 [==============================] - 12s 12s/step - loss: 0.7203 - accuracy: 0.7437 - val_loss: 1.2272 - val_accuracy: 0.5625\n",
            "Epoch 33/50\n",
            "1/1 [==============================] - 11s 11s/step - loss: 0.7153 - accuracy: 0.7281 - val_loss: 1.1858 - val_accuracy: 0.5562\n",
            "Epoch 34/50\n",
            "1/1 [==============================] - 10s 10s/step - loss: 0.6807 - accuracy: 0.7437 - val_loss: 1.1976 - val_accuracy: 0.5312\n",
            "Epoch 35/50\n",
            "1/1 [==============================] - 12s 12s/step - loss: 0.6603 - accuracy: 0.7594 - val_loss: 1.2490 - val_accuracy: 0.5125\n",
            "Epoch 36/50\n",
            "1/1 [==============================] - 12s 12s/step - loss: 0.6395 - accuracy: 0.7703 - val_loss: 1.2463 - val_accuracy: 0.5312\n",
            "Epoch 37/50\n",
            "1/1 [==============================] - 12s 12s/step - loss: 0.6121 - accuracy: 0.7797 - val_loss: 1.2623 - val_accuracy: 0.5375\n",
            "Epoch 38/50\n",
            "1/1 [==============================] - 11s 11s/step - loss: 0.5953 - accuracy: 0.7859 - val_loss: 1.2472 - val_accuracy: 0.5437\n",
            "Epoch 39/50\n",
            "1/1 [==============================] - 11s 11s/step - loss: 0.5675 - accuracy: 0.8078 - val_loss: 1.2945 - val_accuracy: 0.5063\n",
            "Epoch 40/50\n",
            "1/1 [==============================] - 12s 12s/step - loss: 0.5532 - accuracy: 0.8125 - val_loss: 1.2742 - val_accuracy: 0.5500\n",
            "Epoch 41/50\n",
            "1/1 [==============================] - 12s 12s/step - loss: 0.5206 - accuracy: 0.8203 - val_loss: 1.3281 - val_accuracy: 0.5312\n",
            "Epoch 42/50\n",
            "1/1 [==============================] - 12s 12s/step - loss: 0.5085 - accuracy: 0.8281 - val_loss: 1.3109 - val_accuracy: 0.5250\n",
            "Epoch 43/50\n",
            "1/1 [==============================] - 10s 10s/step - loss: 0.4768 - accuracy: 0.8438 - val_loss: 1.3282 - val_accuracy: 0.5312\n",
            "Epoch 44/50\n",
            "1/1 [==============================] - 11s 11s/step - loss: 0.4660 - accuracy: 0.8484 - val_loss: 1.2953 - val_accuracy: 0.5437\n",
            "Epoch 45/50\n",
            "1/1 [==============================] - 12s 12s/step - loss: 0.4449 - accuracy: 0.8641 - val_loss: 1.4627 - val_accuracy: 0.5125\n",
            "Epoch 46/50\n",
            "1/1 [==============================] - 12s 12s/step - loss: 0.4493 - accuracy: 0.8438 - val_loss: 1.3825 - val_accuracy: 0.5562\n",
            "Epoch 47/50\n",
            "1/1 [==============================] - 12s 12s/step - loss: 0.5144 - accuracy: 0.7984 - val_loss: 1.5045 - val_accuracy: 0.4625\n",
            "Epoch 48/50\n",
            "1/1 [==============================] - 10s 10s/step - loss: 0.4507 - accuracy: 0.8438 - val_loss: 1.3505 - val_accuracy: 0.5562\n",
            "Epoch 49/50\n",
            "1/1 [==============================] - 11s 11s/step - loss: 0.3817 - accuracy: 0.8813 - val_loss: 1.3233 - val_accuracy: 0.5750\n",
            "Epoch 50/50\n",
            "1/1 [==============================] - 12s 12s/step - loss: 0.4108 - accuracy: 0.8687 - val_loss: 1.3384 - val_accuracy: 0.5688\n"
          ]
        },
        {
          "output_type": "display_data",
          "data": {
            "text/plain": [
              "<Figure size 640x480 with 1 Axes>"
            ],
            "image/png": "[encoded data removed]"
          },
          "metadata": {}
        }
      ]
    },
    {
      "cell_type": "code",
      "source": [
        "cnn_model.evaluate(test_x,test_y)"
      ],
      "metadata": {
        "colab": {
          "base_uri": "https://localhost:8080/"
        },
        "id": "Bw-lAq2DY__z",
        "outputId": "cefb415e-4379-49c8-a444-f1db198a3d0e"
      },
      "execution_count": null,
      "outputs": [
        {
          "output_type": "stream",
          "name": "stdout",
          "text": [
            "5/5 [==============================] - 1s 218ms/step - loss: 1.3384 - accuracy: 0.5688\n"
          ]
        },
        {
          "output_type": "execute_result",
          "data": {
            "text/plain": [
              "[1.3384183645248413, 0.5687500238418579]"
            ]
          },
          "metadata": {},
          "execution_count": 31
        }
      ]
    },
    {
      "cell_type": "code",
      "source": [
        "chart_sample(test_x,test_y,1)\n",
        "chart_sample(test_x,test_y,50)\n",
        "chart_sample(test_x,test_y,25)\n",
        "chart_sample(test_x,test_y,30)"
      ],
      "metadata": {
        "id": "5ZG22NtMhQqV",
        "colab": {
          "base_uri": "https://localhost:8080/",
          "height": 905
        },
        "outputId": "663feb4c-1f5d-4ba0-a9b6-735016953595"
      },
      "execution_count": null,
      "outputs": [
        {
          "output_type": "display_data",
          "data": {
            "text/plain": [
              "<Figure size 1000x200 with 1 Axes>"
            ],
            "image/png": "[encoded data removed]"
          },
          "metadata": {}
        },
        {
          "output_type": "display_data",
          "data": {
            "text/plain": [
              "<Figure size 1000x200 with 1 Axes>"
            ],
            "image/png": "[encoded data removed]"
          },
          "metadata": {}
        },
        {
          "output_type": "display_data",
          "data": {
            "text/plain": [
              "<Figure size 1000x200 with 1 Axes>"
            ],
            "image/png": "[encoded data removed]"
          },
          "metadata": {}
        },
        {
          "output_type": "display_data",
          "data": {
            "text/plain": [
              "<Figure size 1000x200 with 1 Axes>"
            ],
            "image/png": "[encoded data removed]"
          },
          "metadata": {}
        }
      ]
    },
    {
      "cell_type": "code",
      "source": [
        "y_pred = cnn_model.predict(test_x)\n",
        "y_pred[:5]"
      ],
      "metadata": {
        "id": "hvWx4f8LhYiU",
        "colab": {
          "base_uri": "https://localhost:8080/"
        },
        "outputId": "795b57e5-e9e1-4487-cf8b-3d9b3772f713"
      },
      "execution_count": null,
      "outputs": [
        {
          "output_type": "stream",
          "name": "stdout",
          "text": [
            "5/5 [==============================] - 1s 117ms/step\n"
          ]
        },
        {
          "output_type": "execute_result",
          "data": {
            "text/plain": [
              "array([[3.5971828e-02, 3.2747898e-02, 1.5623438e-04, 8.0021108e-03,\n",
              "        9.2312187e-01],\n",
              "       [6.4213961e-02, 1.0647608e-03, 8.2667042e-03, 7.8795433e-01,\n",
              "        1.3850029e-01],\n",
              "       [1.5873263e-02, 3.4778166e-04, 4.9572308e-03, 9.4698793e-01,\n",
              "        3.1833734e-02],\n",
              "       [3.3958653e-01, 9.9718114e-03, 2.0852375e-03, 2.5056306e-05,\n",
              "        6.4833134e-01],\n",
              "       [1.1852155e-01, 2.0391963e-04, 3.7869448e-03, 2.0712931e-03,\n",
              "        8.7541628e-01]], dtype=float32)"
            ]
          },
          "metadata": {},
          "execution_count": 34
        }
      ]
    },
    {
      "cell_type": "code",
      "source": [
        "y_classes = [np.argmax(element) for element in y_pred]\n",
        "y_classes[:5]\n"
      ],
      "metadata": {
        "id": "ok1jsmWchcCG",
        "colab": {
          "base_uri": "https://localhost:8080/"
        },
        "outputId": "c7323c17-4c80-47a5-9335-69bdd1f96fc4"
      },
      "execution_count": null,
      "outputs": [
        {
          "output_type": "execute_result",
          "data": {
            "text/plain": [
              "[4, 3, 3, 4, 4]"
            ]
          },
          "metadata": {},
          "execution_count": 35
        }
      ]
    },
    {
      "cell_type": "code",
      "source": [
        "test_y[:5]"
      ],
      "metadata": {
        "id": "XH4sa73pheAi",
        "colab": {
          "base_uri": "https://localhost:8080/"
        },
        "outputId": "7e8234e9-7cae-4534-c8f3-1e34e2b5dd50"
      },
      "execution_count": null,
      "outputs": [
        {
          "output_type": "execute_result",
          "data": {
            "text/plain": [
              "array([4, 3, 2, 4, 4])"
            ]
          },
          "metadata": {},
          "execution_count": 36
        }
      ]
    },
    {
      "cell_type": "code",
      "source": [
        "chart_sample(test_x,test_y,15) #actual\n",
        "class_image[y_classes[15]] #predicted"
      ],
      "metadata": {
        "id": "tBp0Y4BLhhfX",
        "colab": {
          "base_uri": "https://localhost:8080/",
          "height": 258
        },
        "outputId": "1061f9bc-73ee-444a-d043-3fc613511973"
      },
      "execution_count": null,
      "outputs": [
        {
          "output_type": "execute_result",
          "data": {
            "text/plain": [
              "'hbar_categorical'"
            ],
            "application/vnd.google.colaboratory.intrinsic+json": {
              "type": "string"
            }
          },
          "metadata": {},
          "execution_count": 37
        },
        {
          "output_type": "display_data",
          "data": {
            "text/plain": [
              "<Figure size 1000x200 with 1 Axes>"
            ],
            "image/png": "[encoded data removed]"
          },
          "metadata": {}
        }
      ]
    },
    {
      "cell_type": "code",
      "source": [
        "print(\"classification report: \\n\", classification_report(test_y,y_classes))"
      ],
      "metadata": {
        "id": "NxYIu_6FhljF",
        "colab": {
          "base_uri": "https://localhost:8080/"
        },
        "outputId": "dde48844-746b-48dd-d22f-c8a9181417d7"
      },
      "execution_count": null,
      "outputs": [
        {
          "output_type": "stream",
          "name": "stdout",
          "text": [
            "classification report: \n",
            "               precision    recall  f1-score   support\n",
            "\n",
            "           0       0.57      0.78      0.66        40\n",
            "           1       0.57      0.65      0.61        26\n",
            "           2       0.50      0.35      0.42        31\n",
            "           3       0.68      0.49      0.57        35\n",
            "           4       0.52      0.54      0.53        28\n",
            "\n",
            "    accuracy                           0.57       160\n",
            "   macro avg       0.57      0.56      0.55       160\n",
            "weighted avg       0.57      0.57      0.56       160\n",
            "\n"
          ]
        }
      ]
    },
    {
      "cell_type": "code",
      "source": [
        "# Generate the confusion matrix \n",
        "confusion_mat = confusion_matrix(test_y, y_classes)\n",
        "print('Confusion Matrix:')\n",
        "print(confusion_mat)"
      ],
      "metadata": {
        "id": "_ZQMWP55hnjG",
        "colab": {
          "base_uri": "https://localhost:8080/"
        },
        "outputId": "d507fece-14e2-4d01-e3d8-965986b3181f"
      },
      "execution_count": null,
      "outputs": [
        {
          "output_type": "stream",
          "name": "stdout",
          "text": [
            "Confusion Matrix:\n",
            "[[31  4  1  0  4]\n",
            " [ 2 17  1  1  5]\n",
            " [15  1 11  4  0]\n",
            " [ 1  3  9 17  5]\n",
            " [ 5  5  0  3 15]]\n"
          ]
        }
      ]
    },
    {
      "cell_type": "code",
      "source": [
        "# Plotting the confusion matrix\n",
        "import seaborn as sn\n",
        "plt.figure(figsize = (10,10))\n",
        "sn.heatmap(confusion_mat,annot=True,fmt='d')\n",
        "plt.xlabel('Predicted')\n",
        "plt.ylabel('Actual')"
      ],
      "metadata": {
        "id": "b90djEfvhp-f",
        "colab": {
          "base_uri": "https://localhost:8080/",
          "height": 867
        },
        "outputId": "55c218f8-1173-46e4-91fc-05ab9c378695"
      },
      "execution_count": null,
      "outputs": [
        {
          "output_type": "execute_result",
          "data": {
            "text/plain": [
              "Text(95.72222222222221, 0.5, 'Actual')"
            ]
          },
          "metadata": {},
          "execution_count": 41
        },
        {
          "output_type": "display_data",
          "data": {
            "text/plain": [
              "<Figure size 1000x1000 with 2 Axes>"
            ],
            "image/png": "[encoded data removed]"
          },
          "metadata": {}
        }
      ]
    },
    {
      "cell_type": "code",
      "source": [
        "from tensorflow.keras.applications import VGG16\n",
        "from tensorflow.keras.preprocessing.image import ImageDataGenerator\n",
        "\n",
        "# Load the pre-trained model\n",
        "vgg16_model = VGG16(weights='imagenet', include_top=False, input_shape=(224, 224, 3))"
      ],
      "metadata": {
        "id": "2dEWd3WuhtVF",
        "colab": {
          "base_uri": "https://localhost:8080/"
        },
        "outputId": "7b7a5da9-f9c4-4ba5-eaa6-d0290864b769"
      },
      "execution_count": null,
      "outputs": [
        {
          "output_type": "stream",
          "name": "stdout",
          "text": [
            "Downloading data from https://storage.googleapis.com/tensorflow/keras-applications/vgg16/vgg16_weights_tf_dim_ordering_tf_kernels_notop.h5\n",
            "58889256/58889256 [==============================] - 1s 0us/step\n"
          ]
        }
      ]
    },
    {
      "cell_type": "code",
      "source": [
        "# Replace the final classification layer with a new layer\n",
        "x = vgg16_model.output\n",
        "x = GlobalAveragePooling2D()(x)\n",
        "x = Dense(128, activation='relu')(x)\n",
        "predictions = Dense(5, activation='softmax')(x)\n",
        "pt_model = tf.keras.Model(inputs=vgg16_model.input, outputs=predictions)\n"
      ],
      "metadata": {
        "id": "g2A0_XZ0h3CH"
      },
      "execution_count": null,
      "outputs": []
    },
    {
      "cell_type": "code",
      "source": [
        "# Freezing all the weights of layers except the new classification layer\n",
        "for layer in pt_model.layers:\n",
        " layer.trainable = False"
      ],
      "metadata": {
        "id": "ZL0wRpm2h49o"
      },
      "execution_count": null,
      "outputs": []
    },
    {
      "cell_type": "code",
      "source": [
        "# Compile the model with categorical crossentropy loss and Adam optimizer\n",
        "pt_model.compile(loss='categorical_crossentropy', optimizer='adam', metrics=['accuracy'])\n"
      ],
      "metadata": {
        "id": "Hh5FE4I0h6t1"
      },
      "execution_count": null,
      "outputs": []
    },
    {
      "cell_type": "code",
      "source": [
        "# Printing model architecture summary \n",
        "pt_model.summary()\n"
      ],
      "metadata": {
        "id": "XhqHPL1Lh8-t",
        "colab": {
          "base_uri": "https://localhost:8080/"
        },
        "outputId": "40eb23d1-1b42-4850-eb52-651662c70bf8"
      },
      "execution_count": null,
      "outputs": [
        {
          "output_type": "stream",
          "name": "stdout",
          "text": [
            "Model: \"model\"\n",
            "_________________________________________________________________\n",
            " Layer (type)                Output Shape              Param #   \n",
            "=================================================================\n",
            " input_1 (InputLayer)        [(None, 224, 224, 3)]     0         \n",
            "                                                                 \n",
            " block1_conv1 (Conv2D)       (None, 224, 224, 64)      1792      \n",
            "                                                                 \n",
            " block1_conv2 (Conv2D)       (None, 224, 224, 64)      36928     \n",
            "                                                                 \n",
            " block1_pool (MaxPooling2D)  (None, 112, 112, 64)      0         \n",
            "                                                                 \n",
            " block2_conv1 (Conv2D)       (None, 112, 112, 128)     73856     \n",
            "                                                                 \n",
            " block2_conv2 (Conv2D)       (None, 112, 112, 128)     147584    \n",
            "                                                                 \n",
            " block2_pool (MaxPooling2D)  (None, 56, 56, 128)       0         \n",
            "                                                                 \n",
            " block3_conv1 (Conv2D)       (None, 56, 56, 256)       295168    \n",
            "                                                                 \n",
            " block3_conv2 (Conv2D)       (None, 56, 56, 256)       590080    \n",
            "                                                                 \n",
            " block3_conv3 (Conv2D)       (None, 56, 56, 256)       590080    \n",
            "                                                                 \n",
            " block3_pool (MaxPooling2D)  (None, 28, 28, 256)       0         \n",
            "                                                                 \n",
            " block4_conv1 (Conv2D)       (None, 28, 28, 512)       1180160   \n",
            "                                                                 \n",
            " block4_conv2 (Conv2D)       (None, 28, 28, 512)       2359808   \n",
            "                                                                 \n",
            " block4_conv3 (Conv2D)       (None, 28, 28, 512)       2359808   \n",
            "                                                                 \n",
            " block4_pool (MaxPooling2D)  (None, 14, 14, 512)       0         \n",
            "                                                                 \n",
            " block5_conv1 (Conv2D)       (None, 14, 14, 512)       2359808   \n",
            "                                                                 \n",
            " block5_conv2 (Conv2D)       (None, 14, 14, 512)       2359808   \n",
            "                                                                 \n",
            " block5_conv3 (Conv2D)       (None, 14, 14, 512)       2359808   \n",
            "                                                                 \n",
            " block5_pool (MaxPooling2D)  (None, 7, 7, 512)         0         \n",
            "                                                                 \n",
            " global_average_pooling2d (G  (None, 512)              0         \n",
            " lobalAveragePooling2D)                                          \n",
            "                                                                 \n",
            " dense_8 (Dense)             (None, 128)               65664     \n",
            "                                                                 \n",
            " dense_9 (Dense)             (None, 5)                 645       \n",
            "                                                                 \n",
            "=================================================================\n",
            "Total params: 14,780,997\n",
            "Trainable params: 0\n",
            "Non-trainable params: 14,780,997\n",
            "_________________________________________________________________\n"
          ]
        }
      ]
    },
    {
      "cell_type": "code",
      "source": [
        "# Set up data generators for image augmentation and feeding data to the model\n",
        "train_datagen = ImageDataGenerator(\n",
        " rescale=1./255,\n",
        " rotation_range=20,\n",
        " width_shift_range=0.2,\n",
        " height_shift_range=0.2,\n",
        " shear_range=0.2,\n",
        " zoom_range=0.2,\n",
        " horizontal_flip=True,\n",
        " fill_mode='nearest')\n",
        "test_datagen = ImageDataGenerator(rescale=1./255)"
      ],
      "metadata": {
        "id": "90VhVwKqh_cu"
      },
      "execution_count": null,
      "outputs": []
    },
    {
      "cell_type": "code",
      "source": [
        "# flow method generates batches of augmented data\n",
        "train_generator = train_datagen.flow(train_x, train_y, batch_size=32)\n",
        "test_generator = train_datagen.flow(test_x, test_y, batch_size=32)"
      ],
      "metadata": {
        "id": "cx_Sql65iFPS"
      },
      "execution_count": null,
      "outputs": []
    },
    {
      "cell_type": "code",
      "source": [
        "# Train the model with early stopping\n",
        "from tensorflow.keras.callbacks import EarlyStopping\n",
        "es = EarlyStopping(monitor='val_loss', patience=10, verbose=1, mode='min', restore_best_weights=True)\n",
        "history = pt_model.fit(train_generator, epochs=100, validation_data=test_generator, callbacks=[es])"
      ],
      "metadata": {
        "id": "HdMp5hSwiOUP",
        "colab": {
          "base_uri": "https://localhost:8080/",
          "height": 762
        },
        "outputId": "4670d829-78bf-43d0-d761-4ca952c320c9"
      },
      "execution_count": null,
      "outputs": [
        {
          "output_type": "stream",
          "name": "stdout",
          "text": [
            "Epoch 1/100\n"
          ]
        },
        {
          "output_type": "error",
          "ename": "ValueError",
          "evalue": "ignored",
          "traceback": [
            "\u001b[0;31m---------------------------------------------------------------------------\u001b[0m",
            "\u001b[0;31mValueError\u001b[0m                                Traceback (most recent call last)",
            "\u001b[0;32m<ipython-input-50-281f4e6e825d>\u001b[0m in \u001b[0;36m<cell line: 4>\u001b[0;34m()\u001b[0m\n\u001b[1;32m      2\u001b[0m \u001b[0;32mfrom\u001b[0m \u001b[0mtensorflow\u001b[0m\u001b[0;34m.\u001b[0m\u001b[0mkeras\u001b[0m\u001b[0;34m.\u001b[0m\u001b[0mcallbacks\u001b[0m \u001b[0;32mimport\u001b[0m \u001b[0mEarlyStopping\u001b[0m\u001b[0;34m\u001b[0m\u001b[0;34m\u001b[0m\u001b[0m\n\u001b[1;32m      3\u001b[0m \u001b[0mes\u001b[0m \u001b[0;34m=\u001b[0m \u001b[0mEarlyStopping\u001b[0m\u001b[0;34m(\u001b[0m\u001b[0mmonitor\u001b[0m\u001b[0;34m=\u001b[0m\u001b[0;34m'val_loss'\u001b[0m\u001b[0;34m,\u001b[0m \u001b[0mpatience\u001b[0m\u001b[0;34m=\u001b[0m\u001b[0;36m10\u001b[0m\u001b[0;34m,\u001b[0m \u001b[0mverbose\u001b[0m\u001b[0;34m=\u001b[0m\u001b[0;36m1\u001b[0m\u001b[0;34m,\u001b[0m \u001b[0mmode\u001b[0m\u001b[0;34m=\u001b[0m\u001b[0;34m'min'\u001b[0m\u001b[0;34m,\u001b[0m \u001b[0mrestore_best_weights\u001b[0m\u001b[0;34m=\u001b[0m\u001b[0;32mTrue\u001b[0m\u001b[0;34m)\u001b[0m\u001b[0;34m\u001b[0m\u001b[0;34m\u001b[0m\u001b[0m\n\u001b[0;32m----> 4\u001b[0;31m \u001b[0mhistory\u001b[0m \u001b[0;34m=\u001b[0m \u001b[0mpt_model\u001b[0m\u001b[0;34m.\u001b[0m\u001b[0mfit\u001b[0m\u001b[0;34m(\u001b[0m\u001b[0mtrain_generator\u001b[0m\u001b[0;34m,\u001b[0m \u001b[0mepochs\u001b[0m\u001b[0;34m=\u001b[0m\u001b[0;36m100\u001b[0m\u001b[0;34m,\u001b[0m \u001b[0mvalidation_data\u001b[0m\u001b[0;34m=\u001b[0m\u001b[0mtest_generator\u001b[0m\u001b[0;34m,\u001b[0m \u001b[0mcallbacks\u001b[0m\u001b[0;34m=\u001b[0m\u001b[0;34m[\u001b[0m\u001b[0mes\u001b[0m\u001b[0;34m]\u001b[0m\u001b[0;34m)\u001b[0m\u001b[0;34m\u001b[0m\u001b[0;34m\u001b[0m\u001b[0m\n\u001b[0m",
            "\u001b[0;32m/usr/local/lib/python3.10/dist-packages/keras/utils/traceback_utils.py\u001b[0m in \u001b[0;36merror_handler\u001b[0;34m(*args, **kwargs)\u001b[0m\n\u001b[1;32m     68\u001b[0m             \u001b[0;31m# To get the full stack trace, call:\u001b[0m\u001b[0;34m\u001b[0m\u001b[0;34m\u001b[0m\u001b[0m\n\u001b[1;32m     69\u001b[0m             \u001b[0;31m# `tf.debugging.disable_traceback_filtering()`\u001b[0m\u001b[0;34m\u001b[0m\u001b[0;34m\u001b[0m\u001b[0m\n\u001b[0;32m---> 70\u001b[0;31m             \u001b[0;32mraise\u001b[0m \u001b[0me\u001b[0m\u001b[0;34m.\u001b[0m\u001b[0mwith_traceback\u001b[0m\u001b[0;34m(\u001b[0m\u001b[0mfiltered_tb\u001b[0m\u001b[0;34m)\u001b[0m \u001b[0;32mfrom\u001b[0m \u001b[0;32mNone\u001b[0m\u001b[0;34m\u001b[0m\u001b[0;34m\u001b[0m\u001b[0m\n\u001b[0m\u001b[1;32m     71\u001b[0m         \u001b[0;32mfinally\u001b[0m\u001b[0;34m:\u001b[0m\u001b[0;34m\u001b[0m\u001b[0;34m\u001b[0m\u001b[0m\n\u001b[1;32m     72\u001b[0m             \u001b[0;32mdel\u001b[0m \u001b[0mfiltered_tb\u001b[0m\u001b[0;34m\u001b[0m\u001b[0;34m\u001b[0m\u001b[0m\n",
            "\u001b[0;32m/usr/local/lib/python3.10/dist-packages/keras/engine/training.py\u001b[0m in \u001b[0;36mtf__train_function\u001b[0;34m(iterator)\u001b[0m\n\u001b[1;32m     13\u001b[0m                 \u001b[0;32mtry\u001b[0m\u001b[0;34m:\u001b[0m\u001b[0;34m\u001b[0m\u001b[0;34m\u001b[0m\u001b[0m\n\u001b[1;32m     14\u001b[0m                     \u001b[0mdo_return\u001b[0m \u001b[0;34m=\u001b[0m \u001b[0;32mTrue\u001b[0m\u001b[0;34m\u001b[0m\u001b[0;34m\u001b[0m\u001b[0m\n\u001b[0;32m---> 15\u001b[0;31m                     \u001b[0mretval_\u001b[0m \u001b[0;34m=\u001b[0m \u001b[0mag__\u001b[0m\u001b[0;34m.\u001b[0m\u001b[0mconverted_call\u001b[0m\u001b[0;34m(\u001b[0m\u001b[0mag__\u001b[0m\u001b[0;34m.\u001b[0m\u001b[0mld\u001b[0m\u001b[0;34m(\u001b[0m\u001b[0mstep_function\u001b[0m\u001b[0;34m)\u001b[0m\u001b[0;34m,\u001b[0m \u001b[0;34m(\u001b[0m\u001b[0mag__\u001b[0m\u001b[0;34m.\u001b[0m\u001b[0mld\u001b[0m\u001b[0;34m(\u001b[0m\u001b[0mself\u001b[0m\u001b[0;34m)\u001b[0m\u001b[0;34m,\u001b[0m \u001b[0mag__\u001b[0m\u001b[0;34m.\u001b[0m\u001b[0mld\u001b[0m\u001b[0;34m(\u001b[0m\u001b[0miterator\u001b[0m\u001b[0;34m)\u001b[0m\u001b[0;34m)\u001b[0m\u001b[0;34m,\u001b[0m \u001b[0;32mNone\u001b[0m\u001b[0;34m,\u001b[0m \u001b[0mfscope\u001b[0m\u001b[0;34m)\u001b[0m\u001b[0;34m\u001b[0m\u001b[0;34m\u001b[0m\u001b[0m\n\u001b[0m\u001b[1;32m     16\u001b[0m                 \u001b[0;32mexcept\u001b[0m\u001b[0;34m:\u001b[0m\u001b[0;34m\u001b[0m\u001b[0;34m\u001b[0m\u001b[0m\n\u001b[1;32m     17\u001b[0m                     \u001b[0mdo_return\u001b[0m \u001b[0;34m=\u001b[0m \u001b[0;32mFalse\u001b[0m\u001b[0;34m\u001b[0m\u001b[0;34m\u001b[0m\u001b[0m\n",
            "\u001b[0;31mValueError\u001b[0m: in user code:\n\n    File \"/usr/local/lib/python3.10/dist-packages/keras/engine/training.py\", line 1284, in train_function  *\n        return step_function(self, iterator)\n    File \"/usr/local/lib/python3.10/dist-packages/keras/engine/training.py\", line 1268, in step_function  **\n        outputs = model.distribute_strategy.run(run_step, args=(data,))\n    File \"/usr/local/lib/python3.10/dist-packages/keras/engine/training.py\", line 1249, in run_step  **\n        outputs = model.train_step(data)\n    File \"/usr/local/lib/python3.10/dist-packages/keras/engine/training.py\", line 1051, in train_step\n        loss = self.compute_loss(x, y, y_pred, sample_weight)\n    File \"/usr/local/lib/python3.10/dist-packages/keras/engine/training.py\", line 1109, in compute_loss\n        return self.compiled_loss(\n    File \"/usr/local/lib/python3.10/dist-packages/keras/engine/compile_utils.py\", line 265, in __call__\n        loss_value = loss_obj(y_t, y_p, sample_weight=sw)\n    File \"/usr/local/lib/python3.10/dist-packages/keras/losses.py\", line 142, in __call__\n        losses = call_fn(y_true, y_pred)\n    File \"/usr/local/lib/python3.10/dist-packages/keras/losses.py\", line 268, in call  **\n        return ag_fn(y_true, y_pred, **self._fn_kwargs)\n    File \"/usr/local/lib/python3.10/dist-packages/keras/losses.py\", line 1984, in categorical_crossentropy\n        return backend.categorical_crossentropy(\n    File \"/usr/local/lib/python3.10/dist-packages/keras/backend.py\", line 5559, in categorical_crossentropy\n        target.shape.assert_is_compatible_with(output.shape)\n\n    ValueError: Shapes (None, 1) and (None, 5) are incompatible\n"
          ]
        }
      ]
    }
  ]
}